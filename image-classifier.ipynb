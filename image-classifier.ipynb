{
  "nbformat": 4,
  "nbformat_minor": 0,
  "metadata": {
    "colab": {
      "name": "Untitled0.ipynb",
      "provenance": [],
      "include_colab_link": true
    },
    "kernelspec": {
      "name": "python3",
      "display_name": "Python 3"
    }
  },
  "cells": [
    {
      "cell_type": "markdown",
      "metadata": {
        "id": "view-in-github",
        "colab_type": "text"
      },
      "source": [
        "<a href=\"https://colab.research.google.com/github/lprashant-94/deep-learning/blob/master/image-classifier.ipynb\" target=\"_parent\"><img src=\"https://colab.research.google.com/assets/colab-badge.svg\" alt=\"Open In Colab\"/></a>"
      ]
    },
    {
      "cell_type": "code",
      "metadata": {
        "id": "Fz7axlGFIRg7",
        "colab_type": "code",
        "colab": {}
      },
      "source": [
        "try:\n",
        "  # %tensorflow_version only exists in Colab.\n",
        "  %tensorflow_version 2.x\n",
        "except Exception:\n",
        "  pass\n",
        "  "
      ],
      "execution_count": 0,
      "outputs": []
    },
    {
      "cell_type": "code",
      "metadata": {
        "id": "NUL28L8eIVS6",
        "colab_type": "code",
        "outputId": "969160eb-242f-4b45-cf2d-f610078cb07b",
        "colab": {
          "base_uri": "https://localhost:8080/",
          "height": 34
        }
      },
      "source": [
        "from __future__ import absolute_import, division, print_function, unicode_literals\n",
        "\n",
        "# TensorFlow and tf.keras\n",
        "import tensorflow as tf\n",
        "from tensorflow import keras\n",
        "\n",
        "# Helper libraries\n",
        "import numpy as np\n",
        "import matplotlib.pyplot as plt\n",
        "\n",
        "print(tf.__version__)"
      ],
      "execution_count": 12,
      "outputs": [
        {
          "output_type": "stream",
          "text": [
            "2.1.0-rc1\n"
          ],
          "name": "stdout"
        }
      ]
    },
    {
      "cell_type": "code",
      "metadata": {
        "id": "64bCJrABIYgM",
        "colab_type": "code",
        "colab": {}
      },
      "source": [
        "fashion_mnist = keras.datasets.fashion_mnist\n",
        "\n",
        "(train_images, train_labels), (test_images, test_labels) = fashion_mnist.load_data()"
      ],
      "execution_count": 0,
      "outputs": []
    },
    {
      "cell_type": "code",
      "metadata": {
        "id": "Q0odWr-5I1D3",
        "colab_type": "code",
        "colab": {}
      },
      "source": [
        "train_images = train_images / 255.0\n",
        "\n",
        "test_images = test_images / 255.0"
      ],
      "execution_count": 0,
      "outputs": []
    },
    {
      "cell_type": "code",
      "metadata": {
        "id": "mifzjxZsJtkM",
        "colab_type": "code",
        "colab": {}
      },
      "source": [
        "model = keras.Sequential([\n",
        "    keras.layers.Flatten(input_shape=(28, 28)),\n",
        "    # keras.layers.Dropout(0.5),\n",
        "    keras.layers.Dense(16, activation='tanh'),\n",
        "    # keras.layers.Dense(50, activation='softmax'),\n",
        "    keras.layers.Dense(10, activation='softmax')\n",
        "])\n",
        "\n",
        "m2 = keras.Sequential([\n",
        "    keras.layers.Flatten(input_shape=(28, 28)),\n",
        "                        keras.layers.Dense(10)\n",
        "])\n",
        "\n",
        "# model = m2\n"
      ],
      "execution_count": 0,
      "outputs": []
    },
    {
      "cell_type": "code",
      "metadata": {
        "id": "RZE6wRfBBG02",
        "colab_type": "code",
        "colab": {
          "base_uri": "https://localhost:8080/",
          "height": 34
        },
        "outputId": "be76d092-72d3-4be2-a41c-f035b6708a6a"
      },
      "source": [
        "784/128"
      ],
      "execution_count": 110,
      "outputs": [
        {
          "output_type": "execute_result",
          "data": {
            "text/plain": [
              "6.125"
            ]
          },
          "metadata": {
            "tags": []
          },
          "execution_count": 110
        }
      ]
    },
    {
      "cell_type": "code",
      "metadata": {
        "id": "SAU8xzrEJw6B",
        "colab_type": "code",
        "colab": {}
      },
      "source": [
        "model.compile(optimizer='sgd',\n",
        "              loss='sparse_categorical_crossentropy',\n",
        "              metrics=['accuracy'])"
      ],
      "execution_count": 0,
      "outputs": []
    },
    {
      "cell_type": "code",
      "metadata": {
        "id": "eu41O0bOBJap",
        "colab_type": "code",
        "colab": {
          "base_uri": "https://localhost:8080/",
          "height": 255
        },
        "outputId": "751d0756-5321-4c74-a24f-349b8869fea1"
      },
      "source": [
        "model.summary()"
      ],
      "execution_count": 112,
      "outputs": [
        {
          "output_type": "stream",
          "text": [
            "Model: \"sequential_29\"\n",
            "_________________________________________________________________\n",
            "Layer (type)                 Output Shape              Param #   \n",
            "=================================================================\n",
            "flatten_28 (Flatten)         (None, 784)               0         \n",
            "_________________________________________________________________\n",
            "dense_47 (Dense)             (None, 16)                12560     \n",
            "_________________________________________________________________\n",
            "dense_48 (Dense)             (None, 10)                170       \n",
            "=================================================================\n",
            "Total params: 12,730\n",
            "Trainable params: 12,730\n",
            "Non-trainable params: 0\n",
            "_________________________________________________________________\n"
          ],
          "name": "stdout"
        }
      ]
    },
    {
      "cell_type": "code",
      "metadata": {
        "id": "W1MT65bfJzY0",
        "colab_type": "code",
        "outputId": "4ff026e5-cd85-45ee-a47b-52f76d4ac09a",
        "colab": {
          "base_uri": "https://localhost:8080/",
          "height": 391
        }
      },
      "source": [
        "model.fit(train_images, train_labels, epochs=10)\n"
      ],
      "execution_count": 113,
      "outputs": [
        {
          "output_type": "stream",
          "text": [
            "Train on 60000 samples\n",
            "Epoch 1/10\n",
            "60000/60000 [==============================] - 3s 50us/sample - loss: 0.8772 - accuracy: 0.7371\n",
            "Epoch 2/10\n",
            "60000/60000 [==============================] - 3s 46us/sample - loss: 0.5685 - accuracy: 0.8114\n",
            "Epoch 3/10\n",
            "60000/60000 [==============================] - 3s 46us/sample - loss: 0.5031 - accuracy: 0.8270\n",
            "Epoch 4/10\n",
            "60000/60000 [==============================] - 3s 45us/sample - loss: 0.4708 - accuracy: 0.8366\n",
            "Epoch 5/10\n",
            "60000/60000 [==============================] - 3s 45us/sample - loss: 0.4498 - accuracy: 0.8426\n",
            "Epoch 6/10\n",
            "60000/60000 [==============================] - 3s 45us/sample - loss: 0.4348 - accuracy: 0.8474\n",
            "Epoch 7/10\n",
            "60000/60000 [==============================] - 3s 46us/sample - loss: 0.4230 - accuracy: 0.8507\n",
            "Epoch 8/10\n",
            "60000/60000 [==============================] - 3s 45us/sample - loss: 0.4138 - accuracy: 0.8546\n",
            "Epoch 9/10\n",
            "60000/60000 [==============================] - 3s 47us/sample - loss: 0.4062 - accuracy: 0.8566\n",
            "Epoch 10/10\n",
            "60000/60000 [==============================] - 3s 49us/sample - loss: 0.3997 - accuracy: 0.8597\n"
          ],
          "name": "stdout"
        },
        {
          "output_type": "execute_result",
          "data": {
            "text/plain": [
              "<tensorflow.python.keras.callbacks.History at 0x7f2be5b52dd8>"
            ]
          },
          "metadata": {
            "tags": []
          },
          "execution_count": 113
        }
      ]
    },
    {
      "cell_type": "code",
      "metadata": {
        "id": "7yEGdOmrJ2st",
        "colab_type": "code",
        "outputId": "ab5c0f8a-bbbd-44f9-92ad-1f47affd3815",
        "colab": {
          "base_uri": "https://localhost:8080/",
          "height": 68
        }
      },
      "source": [
        "test_loss, test_acc = model.evaluate(test_images,  test_labels, verbose=2)\n",
        "\n",
        "print('\\nTest accuracy:', test_acc)"
      ],
      "execution_count": 114,
      "outputs": [
        {
          "output_type": "stream",
          "text": [
            "10000/10000 - 0s - loss: 0.4325 - accuracy: 0.8459\n",
            "\n",
            "Test accuracy: 0.8459\n"
          ],
          "name": "stdout"
        }
      ]
    }
  ]
}